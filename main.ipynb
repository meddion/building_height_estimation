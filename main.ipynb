{
 "cells": [
  {
   "cell_type": "code",
   "execution_count": 1,
   "metadata": {},
   "outputs": [],
   "source": [
    "from dataset import (\n",
    "    BuildingDataset,\n",
    "    show_segmentation,\n",
    "    data_loaders,\n",
    "    show_segmentation_v2,\n",
    "    MiyazakiDataset,\n",
    "    get_simple_transform,\n",
    "    get_transform,\n",
    ")\n",
    "from model import (\n",
    "    ModelConfig,\n",
    "    new_model,\n",
    "    TwoMLPRegression,\n",
    "    EnhancedTwoMLPRegression,\n",
    "    SimpleBuildingHeightPred,\n",
    "    new_pretrained_model,\n",
    ")\n",
    "from dataset import NUMBER_OF_CLASSES\n",
    "import dataset\n",
    "from torch import nn\n",
    "import numpy as np\n",
    "import matplotlib.pyplot as plt\n",
    "import torchvision.transforms as T\n",
    "import torch\n",
    "import logging\n",
    "from model import train, load_fine_tuned_model, show_prediction_results\n",
    "from torch.nn import SmoothL1Loss\n",
    "\n",
    "logging.getLogger(\"matplotlib\").setLevel(logging.WARNING)"
   ]
  },
  {
   "cell_type": "code",
   "execution_count": null,
   "metadata": {},
   "outputs": [],
   "source": [
    "def train_pretrained_model(model_name: str):\n",
    "    model = new_pretrained_model(\n",
    "        new_model_name=model_name,\n",
    "        pretrained_checkpoint_path=\"checkpoints/pretrained_seg_miyazaki_epoch_9.pt\",\n",
    "        height_pred_class=EnhancedTwoMLPRegression,\n",
    "        height_pred_loss_fn=SmoothL1Loss(),\n",
    "        height_pred_after_roi_pool=True,\n",
    "        sample_equal=False,\n",
    "        map_location=\"cpu\",\n",
    "    )\n",
    "\n",
    "    data_loader, data_loader_test = data_loaders(\n",
    "        \"datasets/images_annotated\",\n",
    "        dataset_cls=BuildingDataset,\n",
    "        train_batch_size=2,\n",
    "        test_batch_size=1,\n",
    "        test_split=0.99,\n",
    "        num_workers=4,\n",
    "    )\n",
    "\n",
    "    epoch_losses, epoch_loss_dicts = train(\n",
    "        model,\n",
    "        data_loader,\n",
    "        data_loader_test,\n",
    "        num_epochs=2,\n",
    "        eval_iterations=0,\n",
    "        checkpoint_dir=\"checkpoints\",\n",
    "        checkpoint_prune_threshold=3,\n",
    "    )\n",
    "\n",
    "    return model, epoch_losses, epoch_loss_dicts\n",
    "\n",
    "\n",
    "model, epoch_losses, epoch_loss_dicts = train_pretrained_model(\"test_v2\")"
   ]
  },
  {
   "cell_type": "code",
   "execution_count": null,
   "metadata": {},
   "outputs": [],
   "source": [
    "if \"data_loader_test_inf\" not in locals():\n",
    "    model = load_fine_tuned_model(\"checkpoints/pretrained_model_v1_epoch_0.pt\")\n",
    "\n",
    "    data_loader_inf, data_loader_test_inf = data_loaders(\n",
    "        \"datasets/images_annotated\",\n",
    "        dataset_cls=BuildingDataset,\n",
    "        transform=get_transform,\n",
    "        train_batch_size=2,\n",
    "        test_batch_size=1,\n",
    "        test_split=0.2,\n",
    "        num_workers=4,\n",
    "    )\n",
    "\n",
    "inf_images, inf_targets = next(iter(data_loader_test_inf))\n",
    "\n",
    "predictions = show_prediction_results(\n",
    "    model, inf_images, inf_targets, mask_threshold=0.7, box_score_threshold=0.7\n",
    ")\n",
    "\n",
    "logging.info(f\"Prediction keys: {predictions[0].keys()}\")"
   ]
  },
  {
   "cell_type": "code",
   "execution_count": null,
   "metadata": {},
   "outputs": [],
   "source": [
    "model_cfg = ModelConfig(\n",
    "    name=\"inf_model\",\n",
    "    num_classes=NUMBER_OF_CLASSES,\n",
    "    mask_hidden_layer_size=256,\n",
    "    trainable_backbone_layers=3,\n",
    ")\n",
    "\n",
    "model = new_model(model_cfg)\n",
    "\n",
    "checkpoint_path = \"checkpoints/pretrained_seg_miyazaki_epoch_9.pt\"\n",
    "checkpoint_dict = torch.load(checkpoint_path, map_location=\"cpu\")\n",
    "model.load_state_dict(checkpoint_dict[\"model_state_dict\"], strict=True)"
   ]
  },
  {
   "cell_type": "code",
   "execution_count": null,
   "metadata": {},
   "outputs": [],
   "source": [
    "data_loader, data_loader_test = data_loaders(\n",
    "    \"datasets/miyazaki\",\n",
    "    dataset_cls=MiyazakiDataset,\n",
    "    get_transform=get_simple_transform,\n",
    "    train_batch_size=13,\n",
    "    test_batch_size=3,\n",
    "    test_split=0.01,\n",
    "    num_workers=8,\n",
    ")\n",
    "data_loader_test_inf_iter = iter(data_loader_test)"
   ]
  },
  {
   "cell_type": "code",
   "execution_count": null,
   "metadata": {},
   "outputs": [],
   "source": [
    "og_data_loader, og_data_loader_test = data_loaders(\n",
    "    \"datasets/images_annotated/\",\n",
    "    dataset_cls=BuildingDataset,\n",
    "    get_transform=get_simple_transform,\n",
    "    train_batch_size=13,\n",
    "    test_batch_size=3,\n",
    "    test_split=0.01,\n",
    "    num_workers=8,\n",
    ")\n",
    "og_data_loader_test_inf_iter = iter(og_data_loader_test)"
   ]
  },
  {
   "cell_type": "code",
   "execution_count": null,
   "metadata": {},
   "outputs": [],
   "source": [
    "dataset = BuildingDataset(\n",
    "    \"datasets/images_annotated/\",\n",
    "    transforms=get_simple_transform(train=True),\n",
    ")\n",
    "dataset[1993][1][\"image_name\"]"
   ]
  },
  {
   "cell_type": "code",
   "execution_count": null,
   "metadata": {},
   "outputs": [],
   "source": [
    "# inf_images, inf_targets = next(data_loader_test_inf_iter)\n",
    "# inf_images, inf_targets = next(og_data_loader_test_inf_iter)\n",
    "# inf_images, inf_targets = dataset[1321]\n",
    "# inf_images = [inf_images]\n",
    "# inf_targets = [inf_targets]\n",
    "# inf_images = inf_images.unsqueeze(0)\n",
    "\n",
    "\n",
    "predictions = show_prediction_results(\n",
    "    model, inf_images, inf_targets, mask_threshold=0.6, box_score_threshold=0.6\n",
    ")\n",
    "\n",
    "logging.info(f\"Prediction keys: {predictions[0].keys()}\")"
   ]
  },
  {
   "cell_type": "code",
   "execution_count": 2,
   "metadata": {},
   "outputs": [
    {
     "name": "stderr",
     "output_type": "stream",
     "text": [
      "INFO:root:Size of training set 2086. Sise of test set: 109\n",
      "INFO:root:No checkpoint found, starting from scratch\n"
     ]
    },
    {
     "name": "stdout",
     "output_type": "stream",
     "text": [
      "Epoch: [0] / [2]  [   0/1043]  eta: 2:41:00  lr: 0.000010  loss: 2.0638 (2.0638)  loss_classifier: 0.2429 (0.2429)  loss_box_reg: 0.2540 (0.2540)  loss_building_height_reg: 0.7377 (0.7377)  loss_mask: 0.6372 (0.6372)  loss_objectness: 0.1597 (0.1597)  loss_rpn_box_reg: 0.0323 (0.0323)  time: 9.2627  data: 3.7527\n",
      "Epoch: [0] / [2]  [  10/1043]  eta: 2:12:58  lr: 0.000060  loss: 4.1700 (4.2919)  loss_classifier: 0.3990 (0.3725)  loss_box_reg: 0.4952 (0.4636)  loss_building_height_reg: 2.1011 (2.4646)  loss_mask: 0.5999 (0.5942)  loss_objectness: 0.2562 (0.3042)  loss_rpn_box_reg: 0.0656 (0.0928)  time: 7.7237  data: 0.3420\n",
      "Epoch: [0] / [2]  [  20/1043]  eta: 2:18:13  lr: 0.000110  loss: 4.5701 (4.8540)  loss_classifier: 0.4130 (0.3964)  loss_box_reg: 0.4980 (0.5098)  loss_building_height_reg: 2.2933 (2.8347)  loss_mask: 0.5979 (0.5921)  loss_objectness: 0.3620 (0.3862)  loss_rpn_box_reg: 0.1273 (0.1348)  time: 8.0495  data: 0.0010\n",
      "Epoch: [0] / [2]  [  30/1043]  eta: 2:13:55  lr: 0.000160  loss: 4.5719 (4.5875)  loss_classifier: 0.3787 (0.3765)  loss_box_reg: 0.4833 (0.4876)  loss_building_height_reg: 2.4907 (2.6717)  loss_mask: 0.5662 (0.5871)  loss_objectness: 0.3345 (0.3428)  loss_rpn_box_reg: 0.1096 (0.1218)  time: 8.0470  data: 0.0011\n",
      "Epoch: [0] / [2]  [  40/1043]  eta: 2:10:43  lr: 0.000210  loss: 3.9946 (4.4771)  loss_classifier: 0.3552 (0.3740)  loss_box_reg: 0.4246 (0.4795)  loss_building_height_reg: 2.2175 (2.6184)  loss_mask: 0.5302 (0.5691)  loss_objectness: 0.2254 (0.3256)  loss_rpn_box_reg: 0.0429 (0.1103)  time: 7.5179  data: 0.0011\n",
      "Epoch: [0] / [2]  [  50/1043]  eta: 2:07:56  lr: 0.000260  loss: 3.8138 (4.2852)  loss_classifier: 0.3462 (0.3614)  loss_box_reg: 0.4400 (0.4688)  loss_building_height_reg: 1.9385 (2.4864)  loss_mask: 0.5223 (0.5575)  loss_objectness: 0.2206 (0.3093)  loss_rpn_box_reg: 0.0487 (0.1018)  time: 7.4176  data: 0.0011\n",
      "Epoch: [0] / [2]  [  60/1043]  eta: 2:08:15  lr: 0.000310  loss: 4.0129 (4.4762)  loss_classifier: 0.3802 (0.3665)  loss_box_reg: 0.5364 (0.4867)  loss_building_height_reg: 2.3888 (2.6451)  loss_mask: 0.5039 (0.5515)  loss_objectness: 0.2699 (0.3181)  loss_rpn_box_reg: 0.0737 (0.1084)  time: 7.8456  data: 0.0011\n",
      "Epoch: [0] / [2]  [  70/1043]  eta: 2:07:11  lr: 0.000360  loss: 5.6190 (4.6506)  loss_classifier: 0.3802 (0.3658)  loss_box_reg: 0.5260 (0.4882)  loss_building_height_reg: 3.3718 (2.8275)  loss_mask: 0.5236 (0.5471)  loss_objectness: 0.3075 (0.3140)  loss_rpn_box_reg: 0.0810 (0.1081)  time: 8.1306  data: 0.0011\n",
      "Epoch: [0] / [2]  [  80/1043]  eta: 2:05:34  lr: 0.000410  loss: 4.3921 (4.6242)  loss_classifier: 0.3355 (0.3608)  loss_box_reg: 0.5037 (0.4873)  loss_building_height_reg: 2.7104 (2.8188)  loss_mask: 0.5190 (0.5411)  loss_objectness: 0.2939 (0.3080)  loss_rpn_box_reg: 0.0810 (0.1082)  time: 7.8129  data: 0.0011\n",
      "Epoch: [0] / [2]  [  90/1043]  eta: 2:01:47  lr: 0.000460  loss: 3.7949 (4.4985)  loss_classifier: 0.2731 (0.3465)  loss_box_reg: 0.3676 (0.4701)  loss_building_height_reg: 2.1735 (2.7558)  loss_mask: 0.4986 (0.5375)  loss_objectness: 0.1337 (0.2880)  loss_rpn_box_reg: 0.0496 (0.1004)  time: 7.0472  data: 0.0011\n",
      "Epoch: [0] / [2]  [ 100/1043]  eta: 2:00:16  lr: 0.000509  loss: 3.3530 (4.4782)  loss_classifier: 0.2570 (0.3410)  loss_box_reg: 0.3782 (0.4683)  loss_building_height_reg: 1.9423 (2.7544)  loss_mask: 0.4864 (0.5332)  loss_objectness: 0.1284 (0.2815)  loss_rpn_box_reg: 0.0343 (0.0998)  time: 6.9552  data: 0.0011\n",
      "Epoch: [0] / [2]  [ 110/1043]  eta: 1:59:25  lr: 0.000559  loss: 3.7966 (4.5075)  loss_classifier: 0.2750 (0.3410)  loss_box_reg: 0.4199 (0.4721)  loss_building_height_reg: 2.3218 (2.7960)  loss_mask: 0.4848 (0.5266)  loss_objectness: 0.1785 (0.2738)  loss_rpn_box_reg: 0.0586 (0.0980)  time: 7.7320  data: 0.0011\n",
      "Epoch: [0] / [2]  [ 120/1043]  eta: 1:57:53  lr: 0.000609  loss: 4.2124 (4.4959)  loss_classifier: 0.3193 (0.3387)  loss_box_reg: 0.5190 (0.4715)  loss_building_height_reg: 2.5901 (2.7962)  loss_mask: 0.4637 (0.5209)  loss_objectness: 0.1785 (0.2702)  loss_rpn_box_reg: 0.0479 (0.0984)  time: 7.7196  data: 0.0011\n",
      "Epoch: [0] / [2]  [ 130/1043]  eta: 1:56:58  lr: 0.000659  loss: 4.3411 (4.5402)  loss_classifier: 0.3536 (0.3396)  loss_box_reg: 0.4679 (0.4738)  loss_building_height_reg: 2.6711 (2.8442)  loss_mask: 0.4710 (0.5181)  loss_objectness: 0.1881 (0.2672)  loss_rpn_box_reg: 0.0682 (0.0973)  time: 7.7289  data: 0.0011\n",
      "Epoch: [0] / [2]  [ 140/1043]  eta: 1:56:02  lr: 0.000709  loss: 4.3411 (4.5147)  loss_classifier: 0.3576 (0.3403)  loss_box_reg: 0.4679 (0.4775)  loss_building_height_reg: 2.6711 (2.8183)  loss_mask: 0.4761 (0.5154)  loss_objectness: 0.2160 (0.2657)  loss_rpn_box_reg: 0.0892 (0.0975)  time: 7.9932  data: 0.0011\n",
      "Epoch: [0] / [2]  [ 150/1043]  eta: 1:55:12  lr: 0.000759  loss: 3.6215 (4.4895)  loss_classifier: 0.3421 (0.3404)  loss_box_reg: 0.4513 (0.4807)  loss_building_height_reg: 2.0571 (2.7933)  loss_mask: 0.4803 (0.5127)  loss_objectness: 0.2251 (0.2633)  loss_rpn_box_reg: 0.0848 (0.0992)  time: 8.0914  data: 0.0011\n",
      "Epoch: [0] / [2]  [ 160/1043]  eta: 1:53:58  lr: 0.000809  loss: 3.9524 (4.4647)  loss_classifier: 0.3156 (0.3395)  loss_box_reg: 0.4469 (0.4815)  loss_building_height_reg: 2.0571 (2.7746)  loss_mask: 0.4795 (0.5102)  loss_objectness: 0.1910 (0.2604)  loss_rpn_box_reg: 0.0712 (0.0985)  time: 7.9900  data: 0.0011\n",
      "Epoch: [0] / [2]  [ 170/1043]  eta: 1:52:51  lr: 0.000859  loss: 4.2515 (4.4944)  loss_classifier: 0.3068 (0.3387)  loss_box_reg: 0.4453 (0.4830)  loss_building_height_reg: 2.7157 (2.8095)  loss_mask: 0.4756 (0.5084)  loss_objectness: 0.1679 (0.2580)  loss_rpn_box_reg: 0.0503 (0.0968)  time: 7.8752  data: 0.0011\n",
      "Epoch: [0] / [2]  [ 180/1043]  eta: 1:51:51  lr: 0.000909  loss: 4.0200 (4.4624)  loss_classifier: 0.3257 (0.3394)  loss_box_reg: 0.5435 (0.4847)  loss_building_height_reg: 2.5544 (2.7764)  loss_mask: 0.4711 (0.5063)  loss_objectness: 0.1679 (0.2577)  loss_rpn_box_reg: 0.0593 (0.0979)  time: 8.0336  data: 0.0011\n"
     ]
    }
   ],
   "source": [
    "def train_pretrained_model(model_name: str):\n",
    "    model = new_pretrained_model(\n",
    "        new_model_name=model_name,\n",
    "        pretrained_checkpoint_path=\"checkpoints/pretrained_seg_miyazaki_epoch_9.pt\",\n",
    "        height_pred_class=EnhancedTwoMLPRegression,\n",
    "        height_pred_loss_fn=SmoothL1Loss(),\n",
    "        height_pred_after_roi_pool=False,\n",
    "        sample_equal=False,\n",
    "        map_location=\"cpu\",\n",
    "    )\n",
    "\n",
    "    data_loader, data_loader_test = data_loaders(\n",
    "        \"datasets/images_annotated\",\n",
    "        dataset_cls=BuildingDataset,\n",
    "        train_batch_size=2,\n",
    "        test_batch_size=1,\n",
    "        test_split=0.05,\n",
    "        num_workers=4,\n",
    "    )\n",
    "\n",
    "    return train(\n",
    "        model,\n",
    "        data_loader,\n",
    "        data_loader_test,\n",
    "        num_epochs=3,\n",
    "        eval_iterations=0,\n",
    "        checkpoint_dir=\"checkpoints\",\n",
    "        checkpoint_prune_threshold=3,\n",
    "    )\n",
    "\n",
    "\n",
    "model, epoch_losses, epoch_loss_dicts = train_pretrained_model(\n",
    "    \"fine_tuned_model_miyazaki_9_v2\"\n",
    ")"
   ]
  }
 ],
 "metadata": {
  "kernelspec": {
   "display_name": "bhd",
   "language": "python",
   "name": "python3"
  },
  "language_info": {
   "codemirror_mode": {
    "name": "ipython",
    "version": 3
   },
   "file_extension": ".py",
   "mimetype": "text/x-python",
   "name": "python",
   "nbconvert_exporter": "python",
   "pygments_lexer": "ipython3",
   "version": "3.10.10"
  }
 },
 "nbformat": 4,
 "nbformat_minor": 2
}
