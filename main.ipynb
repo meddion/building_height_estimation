{
 "cells": [
  {
   "cell_type": "code",
   "execution_count": null,
   "metadata": {},
   "outputs": [],
   "source": [
    "import utils\n",
    "from dataset import BuildingDataset\n",
    "import numpy as np\n",
    "import matplotlib.pyplot as plt\n",
    "import torchvision\n",
    "from model import get_transform\n",
    "from torchvision.utils import draw_bounding_boxes, draw_segmentation_masks\n",
    "import torch"
   ]
  },
  {
   "cell_type": "code",
   "execution_count": null,
   "metadata": {},
   "outputs": [],
   "source": [
    "# Load data for exploration.\n",
    "dataset_test = BuildingDataset(\n",
    "    \"datasets/mlc_training_data/images_annotated/\",\n",
    ")"
   ]
  },
  {
   "cell_type": "code",
   "execution_count": null,
   "metadata": {},
   "outputs": [],
   "source": [
    "# Load data for exploration.\n",
    "dataset_expl = BuildingDataset(\n",
    "    \"datasets/mlc_training_data/images_annotated/\",\n",
    ")\n",
    "\n",
    "data = [d for d in dataset_expl]"
   ]
  },
  {
   "cell_type": "code",
   "execution_count": null,
   "metadata": {},
   "outputs": [],
   "source": [
    "def show_segmentation(img, masks, boxes=None, labels=None, bcolors=\"red\"):\n",
    "    output_image = draw_segmentation_masks(img, masks.to(torch.bool), alpha=0.8)\n",
    "    if boxes is not None:\n",
    "        output_image = draw_bounding_boxes(output_image, boxes, labels, colors=bcolors)\n",
    "\n",
    "    plt.figure(figsize=(12, 12))\n",
    "    plt.imshow(output_image.permute(1, 2, 0))\n",
    "\n",
    "\n",
    "for sample in data[:10]:\n",
    "    img, masks, boxes = sample[0], sample[1][\"masks\"], sample[1][\"boxes\"]\n",
    "    height_labels = [str(h.item()) for h in sample[1][\"building_heights\"]]\n",
    "    show_segmentation(img, masks, boxes, height_labels)"
   ]
  },
  {
   "cell_type": "code",
   "execution_count": null,
   "metadata": {},
   "outputs": [],
   "source": [
    "height_labels = [d[1][\"building_heights\"] for d in data]\n",
    "height_labels = torch.cat(height_labels).numpy()\n",
    "\n",
    "counts, bins = np.histogram(\n",
    "    height_labels,\n",
    "    bins=[3, 6, 9, 15, 25, 40, 70, 120, 200, max(250, height_labels.max())],\n",
    ")\n",
    "plt.stairs(counts, bins, fill=True)\n",
    "\n",
    "for q in [0.25, 0.5, 0.75, 0.95, 0.99]:\n",
    "    print(f\"Quantile {q}: {np.quantile(height_labels, q)}\")"
   ]
  },
  {
   "cell_type": "code",
   "execution_count": null,
   "metadata": {},
   "outputs": [],
   "source": [
    "model = torchvision.models.detection.maskrcnn_resnet50_fpn(weights=\"DEFAULT\")\n",
    "\n",
    "dataset = BuildingDataset(\n",
    "    \"datasets/mlc_training_data/images_annotated/\",\n",
    "    transforms=get_transform(train=True),\n",
    ")\n",
    "\n",
    "data_loader = torch.utils.data.DataLoader(\n",
    "    dataset,\n",
    "    batch_size=2,\n",
    "    shuffle=True,\n",
    "    num_workers=4,\n",
    "    collate_fn=utils.collate_fn,\n",
    ")\n",
    "\n",
    "# For Training\n",
    "images, targets = next(iter(data_loader))\n",
    "\n",
    "images = list(image for image in images)\n",
    "targets = [{k: v for k, v in t.items()} for t in targets]\n",
    "output = model(images, targets)  # Returns losses and detections\n",
    "print(output)\n",
    "\n",
    "# For inference\n",
    "model.eval()\n",
    "x = [torch.rand(3, 300, 400), torch.rand(3, 500, 400)]\n",
    "predictions = model(x)\n",
    "print(predictions[0])"
   ]
  },
  {
   "cell_type": "code",
   "execution_count": null,
   "metadata": {},
   "outputs": [],
   "source": [
    "from model import train\n",
    "\n",
    "train(\n",
    "    dataset_root=\"datasets/mlc_training_data/images_annotated\",\n",
    "    num_epochs=20,\n",
    "    train_batch_size=10,\n",
    ")"
   ]
  }
 ],
 "metadata": {
  "kernelspec": {
   "display_name": "bhd",
   "language": "python",
   "name": "python3"
  },
  "language_info": {
   "codemirror_mode": {
    "name": "ipython",
    "version": 3
   },
   "file_extension": ".py",
   "mimetype": "text/x-python",
   "name": "python",
   "nbconvert_exporter": "python",
   "pygments_lexer": "ipython3",
   "version": "3.10.10"
  }
 },
 "nbformat": 4,
 "nbformat_minor": 2
}
