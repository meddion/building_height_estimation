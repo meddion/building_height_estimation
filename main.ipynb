{
 "cells": [
  {
   "cell_type": "code",
   "execution_count": null,
   "metadata": {},
   "outputs": [],
   "source": [
    "import utils\n",
    "from dataset import BuildingDataset\n",
    "import numpy as np\n",
    "import matplotlib.pyplot as plt\n",
    "import torchvision\n",
    "from model import get_transform\n",
    "from torchvision.utils import draw_bounding_boxes, draw_segmentation_masks\n",
    "import torch"
   ]
  },
  {
   "cell_type": "code",
   "execution_count": null,
   "metadata": {},
   "outputs": [],
   "source": [
    "# Load data for exploration.\n",
    "dataset_test = BuildingDataset(\n",
    "    \"datasets/mlc_training_data/images_annotated/\",\n",
    ")\n",
    "\n",
    "dataset_test[0]"
   ]
  },
  {
   "cell_type": "code",
   "execution_count": null,
   "metadata": {},
   "outputs": [],
   "source": [
    "# Load data for exploration.\n",
    "dataset_expl = BuildingDataset(\n",
    "    \"datasets/mlc_training_data/images_annotated/\",\n",
    ")\n",
    "\n",
    "data = [d for d in dataset_expl]"
   ]
  },
  {
   "cell_type": "code",
   "execution_count": null,
   "metadata": {},
   "outputs": [],
   "source": [
    "def show_segmentation(img, masks, boxes=None, labels=None, bcolors=\"red\"):\n",
    "    output_image = draw_segmentation_masks(img, masks.to(torch.bool), alpha=0.8)\n",
    "    if boxes is not None:\n",
    "        output_image = draw_bounding_boxes(output_image, boxes, labels, colors=bcolors)\n",
    "\n",
    "    plt.figure(figsize=(12, 12))\n",
    "    plt.imshow(output_image.permute(1, 2, 0))\n",
    "\n",
    "\n",
    "for sample in data[:10]:\n",
    "    img, masks, boxes = sample[0], sample[1][\"masks\"], sample[1][\"boxes\"]\n",
    "    height_labels = [str(h.item()) for h in sample[1][\"building_heights\"]]\n",
    "    show_segmentation(img, masks, boxes, height_labels)"
   ]
  },
  {
   "cell_type": "code",
   "execution_count": 29,
   "metadata": {},
   "outputs": [
    {
     "name": "stdout",
     "output_type": "stream",
     "text": [
      "Min:  1 Max:  488\n",
      "Quantile 0.25: 11.0\n",
      "Quantile 0.5: 20.0\n",
      "Quantile 0.75: 31.0\n",
      "Quantile 0.95: 87.29999999999973\n",
      "Quantile 0.99: 219.0\n"
     ]
    },
    {
     "data": {
      "image/png": "[encoded data removed]",
      "text/plain": [
       "<Figure size 640x480 with 1 Axes>"
      ]
     },
     "metadata": {},
     "output_type": "display_data"
    }
   ],
   "source": [
    "def show_distribution(values, bins=None):\n",
    "    counts, bins = np.histogram(\n",
    "        values,\n",
    "        bins=bins,\n",
    "    )\n",
    "    plt.stairs(counts, bins, fill=True)\n",
    "\n",
    "    print(\"Min: \", masks.min(), \"Max: \", masks.max())\n",
    "\n",
    "    for q in [0.25, 0.5, 0.75, 0.95, 0.99]:\n",
    "        print(f\"Quantile {q}: {np.quantile(values, q)}\")\n",
    "\n",
    "\n",
    "# heights = [d[1][\"building_heights\"] for d in data]\n",
    "# heights = np.stack(heights, axis=0)\n",
    "# show_distribution(heights, [3, 6, 9, 15, 25, 40, 70, 120, 200, max(250, heights.max())])\n",
    "\n",
    "masks = [len(d[1][\"masks\"]) for d in data]\n",
    "masks = np.stack(masks, axis=0)\n",
    "show_distribution(masks, [3, 6, 9, 15, 25, 40, 70, 120, 200])"
   ]
  },
  {
   "cell_type": "markdown",
   "metadata": {},
   "source": [
    "[len(d[1][\"masks\"]) for d in data]\n"
   ]
  },
  {
   "cell_type": "code",
   "execution_count": null,
   "metadata": {},
   "outputs": [],
   "source": [
    "model = torchvision.models.detection.maskrcnn_resnet50_fpn(weights=\"DEFAULT\")\n",
    "\n",
    "dataset = BuildingDataset(\n",
    "    \"datasets/mlc_training_data/images_annotated/\",\n",
    "    transforms=get_transform(train=True),\n",
    ")\n",
    "\n",
    "data_loader = torch.utils.data.DataLoader(\n",
    "    dataset,\n",
    "    batch_size=2,\n",
    "    shuffle=True,\n",
    "    num_workers=4,\n",
    "    collate_fn=utils.collate_fn,\n",
    ")\n",
    "\n",
    "# For Training\n",
    "images, targets = next(iter(data_loader))\n",
    "\n",
    "images = list(image for image in images)\n",
    "targets = [{k: v for k, v in t.items()} for t in targets]\n",
    "output = model(images, targets)  # Returns losses and detections\n",
    "print(output)\n",
    "\n",
    "# For inference\n",
    "model.eval()\n",
    "x = [torch.rand(3, 300, 400), torch.rand(3, 500, 400)]\n",
    "predictions = model(x)\n",
    "print(predictions[0])"
   ]
  },
  {
   "cell_type": "code",
   "execution_count": 10,
   "metadata": {},
   "outputs": [
    {
     "name": "stdout",
     "output_type": "stream",
     "text": [
      "Loss is nan, stopping training\n",
      "{'loss_classifier': tensor(nan, grad_fn=<NllLossBackward0>), 'loss_box_reg': tensor(nan, grad_fn=<DivBackward0>), 'loss_building_height_reg': tensor(nan, grad_fn=<SmoothL1LossBackward0>), 'loss_mask': tensor(nan, grad_fn=<BinaryCrossEntropyWithLogitsBackward0>), 'loss_objectness': tensor(nan, grad_fn=<BinaryCrossEntropyWithLogitsBackward0>), 'loss_rpn_box_reg': tensor(nan, grad_fn=<DivBackward0>)}\n"
     ]
    },
    {
     "ename": "SystemExit",
     "evalue": "1",
     "output_type": "error",
     "traceback": [
      "An exception has occurred, use %tb to see the full traceback.\n",
      "\u001b[0;31mSystemExit\u001b[0m\u001b[0;31m:\u001b[0m 1\n"
     ]
    },
    {
     "name": "stderr",
     "output_type": "stream",
     "text": [
      "/Users/volodymyr/work/personal/building_height_detection/.venv/lib/python3.10/site-packages/IPython/core/interactiveshell.py:3585: UserWarning: To exit: use 'exit', 'quit', or Ctrl-D.\n",
      "  warn(\"To exit: use 'exit', 'quit', or Ctrl-D.\", stacklevel=1)\n"
     ]
    }
   ],
   "source": [
    "from model import train\n",
    "\n",
    "train(\n",
    "    dataset_root=\"datasets/mlc_training_data/images_annotated\",\n",
    "    num_epochs=20,\n",
    "    train_batch_size=10,\n",
    ")"
   ]
  }
 ],
 "metadata": {
  "kernelspec": {
   "display_name": "bhd",
   "language": "python",
   "name": "python3"
  },
  "language_info": {
   "codemirror_mode": {
    "name": "ipython",
    "version": 3
   },
   "file_extension": ".py",
   "mimetype": "text/x-python",
   "name": "python",
   "nbconvert_exporter": "python",
   "pygments_lexer": "ipython3",
   "version": "3.10.10"
  }
 },
 "nbformat": 4,
 "nbformat_minor": 2
}
